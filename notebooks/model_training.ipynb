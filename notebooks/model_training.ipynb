{
 "cells": [
  {
   "cell_type": "markdown",
   "id": "1dd90449",
   "metadata": {},
   "source": [
    "# Model Training & Evaluation\n",
    "\n",
    "Train multiple ML models and compare performance"
   ]
  },
  {
   "cell_type": "code",
   "execution_count": 1,
   "id": "22666341",
   "metadata": {},
   "outputs": [
    {
     "name": "stdout",
     "output_type": "stream",
     "text": [
      "✓ Libraries imported\n"
     ]
    }
   ],
   "source": [
    "import numpy as np\n",
    "import pandas as pd\n",
    "import matplotlib.pyplot as plt\n",
    "import seaborn as sns\n",
    "import joblib\n",
    "import os\n",
    "from sklearn.preprocessing import StandardScaler, LabelEncoder\n",
    "from sklearn.linear_model import LogisticRegression\n",
    "from sklearn.ensemble import RandomForestClassifier\n",
    "from sklearn.svm import SVC\n",
    "from sklearn.neural_network import MLPClassifier\n",
    "from sklearn.metrics import *\n",
    "import xgboost as xgb\n",
    "import warnings\n",
    "warnings.filterwarnings('ignore')\n",
    "\n",
    "print(\"✓ Libraries imported\")"
   ]
  },
  {
   "cell_type": "code",
   "execution_count": 2,
   "id": "4aed8552",
   "metadata": {},
   "outputs": [
    {
     "name": "stdout",
     "output_type": "stream",
     "text": [
      "Train: (3500, 13)\n",
      "Val: (750, 13)\n",
      "Test: (750, 13)\n"
     ]
    }
   ],
   "source": [
    "train_df = pd.read_csv('../data/processed/train.csv')\n",
    "val_df = pd.read_csv('../data/processed/val.csv')\n",
    "test_df = pd.read_csv('../data/processed/test.csv')\n",
    "\n",
    "print(f\"Train: {train_df.shape}\")\n",
    "print(f\"Val: {val_df.shape}\")\n",
    "print(f\"Test: {test_df.shape}\")"
   ]
  },
  {
   "cell_type": "markdown",
   "id": "1d688a21",
   "metadata": {},
   "source": [
    "## Feature Engineering"
   ]
  },
  {
   "cell_type": "code",
   "execution_count": 3,
   "id": "1b2472fc",
   "metadata": {},
   "outputs": [
    {
     "name": "stdout",
     "output_type": "stream",
     "text": [
      "✓ Features engineered\n"
     ]
    }
   ],
   "source": [
    "def add_features(df):\n",
    "    \"\"\"Add interaction and derived features\"\"\"\n",
    "    df = df.copy()\n",
    "    df['strength_ccs_interaction'] = df['strength'] * df['ccs_value']\n",
    "    df['strength_gs_interaction'] = df['strength'] * df['gs_value']\n",
    "    df['prompt_ratio'] = df['prompt_length'] / (df['negative_prompt_length'] + 1)\n",
    "    df['is_optimal_params'] = (\n",
    "        (df['strength'] >= 0.5) & (df['strength'] <= 0.7) &\n",
    "        (df['ccs_value'] >= 1.3) & (df['ccs_value'] <= 1.7) &\n",
    "        (df['prompt_length'] <= 3)\n",
    "    ).astype(int)\n",
    "    return df\n",
    "\n",
    "train_df = add_features(train_df)\n",
    "val_df = add_features(val_df)\n",
    "test_df = add_features(test_df)\n",
    "\n",
    "print(\"✓ Features engineered\")"
   ]
  },
  {
   "cell_type": "markdown",
   "id": "086a3924",
   "metadata": {},
   "source": [
    "## Preprocessing"
   ]
  },
  {
   "cell_type": "code",
   "execution_count": 4,
   "id": "7d44d2da",
   "metadata": {},
   "outputs": [
    {
     "name": "stdout",
     "output_type": "stream",
     "text": [
      "✓ Data prepared: (3500, 13)\n"
     ]
    }
   ],
   "source": [
    "le = LabelEncoder()\n",
    "train_df['ec_encoded'] = le.fit_transform(train_df['error_correction_level'])\n",
    "val_df['ec_encoded'] = le.transform(val_df['error_correction_level'])\n",
    "test_df['ec_encoded'] = le.transform(test_df['error_correction_level'])\n",
    "\n",
    "feature_cols = ['strength', 'ccs_value', 'gs_value', 'prompt_length',\n",
    "               'negative_prompt_length', 'qr_version', 'image_resolution',\n",
    "               'num_iterations', 'ec_encoded', 'strength_ccs_interaction',\n",
    "               'strength_gs_interaction', 'prompt_ratio', 'is_optimal_params']\n",
    "\n",
    "X_train = train_df[feature_cols].values\n",
    "y_train = train_df['is_scannable'].values\n",
    "X_val = val_df[feature_cols].values\n",
    "y_val = val_df['is_scannable'].values\n",
    "X_test = test_df[feature_cols].values\n",
    "y_test = test_df['is_scannable'].values\n",
    "\n",
    "scaler = StandardScaler()\n",
    "X_train = scaler.fit_transform(X_train)\n",
    "X_val = scaler.transform(X_val)\n",
    "X_test = scaler.transform(X_test)\n",
    "\n",
    "print(f\"✓ Data prepared: {X_train.shape}\")\n"
   ]
  },
  {
   "cell_type": "markdown",
   "id": "512a96b3",
   "metadata": {},
   "source": [
    "## Model Training"
   ]
  },
  {
   "cell_type": "code",
   "execution_count": 5,
   "id": "3f5aa5f8",
   "metadata": {},
   "outputs": [
    {
     "name": "stdout",
     "output_type": "stream",
     "text": [
      "\n",
      "============================================================\n",
      "LOGISTIC REGRESSION\n",
      "============================================================\n",
      "Accuracy: 0.7213\n",
      "F1-Score: 0.0711\n",
      "ROC-AUC: 0.6511\n"
     ]
    }
   ],
   "source": [
    "print(\"\\n\" + \"=\"*60)\n",
    "print(\"LOGISTIC REGRESSION\")\n",
    "print(\"=\"*60)\n",
    "\n",
    "lr = LogisticRegression(max_iter=1000, random_state=42)\n",
    "lr.fit(X_train, y_train)\n",
    "y_pred_lr = lr.predict(X_test)\n",
    "y_proba_lr = lr.predict_proba(X_test)[:, 1]\n",
    "\n",
    "print(f\"Accuracy: {accuracy_score(y_test, y_pred_lr):.4f}\")\n",
    "print(f\"F1-Score: {f1_score(y_test, y_pred_lr):.4f}\")\n",
    "print(f\"ROC-AUC: {roc_auc_score(y_test, y_proba_lr):.4f}\")"
   ]
  },
  {
   "cell_type": "code",
   "execution_count": 6,
   "id": "559706ab",
   "metadata": {},
   "outputs": [
    {
     "name": "stdout",
     "output_type": "stream",
     "text": [
      "\n",
      "============================================================\n",
      "RANDOM FOREST\n",
      "============================================================\n",
      "Accuracy: 0.7680\n",
      "F1-Score: 0.4528\n",
      "ROC-AUC: 0.7878\n"
     ]
    }
   ],
   "source": [
    "print(\"\\n\" + \"=\"*60)\n",
    "print(\"RANDOM FOREST\")\n",
    "print(\"=\"*60)\n",
    "\n",
    "rf = RandomForestClassifier(n_estimators=200, max_depth=15, random_state=42, n_jobs=-1)\n",
    "rf.fit(X_train, y_train)\n",
    "y_pred_rf = rf.predict(X_test)\n",
    "y_proba_rf = rf.predict_proba(X_test)[:, 1]\n",
    "\n",
    "print(f\"Accuracy: {accuracy_score(y_test, y_pred_rf):.4f}\")\n",
    "print(f\"F1-Score: {f1_score(y_test, y_pred_rf):.4f}\")\n",
    "print(f\"ROC-AUC: {roc_auc_score(y_test, y_proba_rf):.4f}\")"
   ]
  },
  {
   "cell_type": "code",
   "execution_count": 7,
   "id": "3a13aec7",
   "metadata": {},
   "outputs": [
    {
     "name": "stdout",
     "output_type": "stream",
     "text": [
      "\n",
      "============================================================\n",
      "XGBOOST\n",
      "============================================================\n",
      "Accuracy: 0.7667\n",
      "F1-Score: 0.5125\n",
      "ROC-AUC: 0.7786\n"
     ]
    }
   ],
   "source": [
    "print(\"\\n\" + \"=\"*60)\n",
    "print(\"XGBOOST\")\n",
    "print(\"=\"*60)\n",
    "\n",
    "xgb_model = xgb.XGBClassifier(n_estimators=150, max_depth=8, learning_rate=0.1, random_state=42)\n",
    "xgb_model.fit(X_train, y_train)\n",
    "y_pred_xgb = xgb_model.predict(X_test)\n",
    "y_proba_xgb = xgb_model.predict_proba(X_test)[:, 1]\n",
    "\n",
    "print(f\"Accuracy: {accuracy_score(y_test, y_pred_xgb):.4f}\")\n",
    "print(f\"F1-Score: {f1_score(y_test, y_pred_xgb):.4f}\")\n",
    "print(f\"ROC-AUC: {roc_auc_score(y_test, y_proba_xgb):.4f}\")"
   ]
  },
  {
   "cell_type": "code",
   "execution_count": 8,
   "id": "b8045619",
   "metadata": {},
   "outputs": [
    {
     "name": "stdout",
     "output_type": "stream",
     "text": [
      "\n",
      "============================================================\n",
      "SVM\n",
      "============================================================\n",
      "Accuracy: 0.7267\n",
      "F1-Score: 0.1350\n",
      "ROC-AUC: 0.6706\n"
     ]
    }
   ],
   "source": [
    "print(\"\\n\" + \"=\"*60)\n",
    "print(\"SVM\")\n",
    "print(\"=\"*60)\n",
    "\n",
    "svm = SVC(kernel='rbf', probability=True, random_state=42)\n",
    "svm.fit(X_train, y_train)\n",
    "y_pred_svm = svm.predict(X_test)\n",
    "y_proba_svm = svm.predict_proba(X_test)[:, 1]\n",
    "\n",
    "print(f\"Accuracy: {accuracy_score(y_test, y_pred_svm):.4f}\")\n",
    "print(f\"F1-Score: {f1_score(y_test, y_pred_svm):.4f}\")\n",
    "print(f\"ROC-AUC: {roc_auc_score(y_test, y_proba_svm):.4f}\")\n"
   ]
  },
  {
   "cell_type": "code",
   "execution_count": 9,
   "id": "092ef6f9",
   "metadata": {},
   "outputs": [
    {
     "name": "stdout",
     "output_type": "stream",
     "text": [
      "\n",
      "============================================================\n",
      "NEURAL NETWORK\n",
      "============================================================\n",
      "Accuracy: 0.6720\n",
      "F1-Score: 0.3971\n",
      "ROC-AUC: 0.6396\n"
     ]
    }
   ],
   "source": [
    "print(\"\\n\" + \"=\"*60)\n",
    "print(\"NEURAL NETWORK\")\n",
    "print(\"=\"*60)\n",
    "\n",
    "nn = MLPClassifier(hidden_layer_sizes=(128,64,32), max_iter=500, random_state=42)\n",
    "nn.fit(X_train, y_train)\n",
    "y_pred_nn = nn.predict(X_test)\n",
    "y_proba_nn = nn.predict_proba(X_test)[:, 1]\n",
    "\n",
    "print(f\"Accuracy: {accuracy_score(y_test, y_pred_nn):.4f}\")\n",
    "print(f\"F1-Score: {f1_score(y_test, y_pred_nn):.4f}\")\n",
    "print(f\"ROC-AUC: {roc_auc_score(y_test, y_proba_nn):.4f}\")"
   ]
  },
  {
   "cell_type": "markdown",
   "id": "fa01ccf5",
   "metadata": {},
   "source": [
    "## Model Comparison"
   ]
  },
  {
   "cell_type": "code",
   "execution_count": 10,
   "id": "a1f2d71e",
   "metadata": {},
   "outputs": [
    {
     "name": "stdout",
     "output_type": "stream",
     "text": [
      "\n",
      "============================================================\n",
      "MODEL COMPARISON\n",
      "============================================================\n",
      "              Model  Accuracy  F1-Score  ROC-AUC\n",
      "            XGBoost  0.766667  0.512535 0.778565\n",
      "      Random Forest  0.768000  0.452830 0.787779\n",
      "     Neural Network  0.672000  0.397059 0.639564\n",
      "                SVM  0.726667  0.135021 0.670640\n",
      "Logistic Regression  0.721333  0.071111 0.651131\n"
     ]
    }
   ],
   "source": [
    "results = pd.DataFrame({\n",
    "    'Model': ['Logistic Regression', 'Random Forest', 'XGBoost', 'SVM', 'Neural Network'],\n",
    "    'Accuracy': [accuracy_score(y_test, y_pred_lr), accuracy_score(y_test, y_pred_rf),\n",
    "                 accuracy_score(y_test, y_pred_xgb), accuracy_score(y_test, y_pred_svm),\n",
    "                 accuracy_score(y_test, y_pred_nn)],\n",
    "    'F1-Score': [f1_score(y_test, y_pred_lr), f1_score(y_test, y_pred_rf),\n",
    "                 f1_score(y_test, y_pred_xgb), f1_score(y_test, y_pred_svm),\n",
    "                 f1_score(y_test, y_pred_nn)],\n",
    "    'ROC-AUC': [roc_auc_score(y_test, y_proba_lr), roc_auc_score(y_test, y_proba_rf),\n",
    "                roc_auc_score(y_test, y_proba_xgb), roc_auc_score(y_test, y_proba_svm),\n",
    "                roc_auc_score(y_test, y_proba_nn)]\n",
    "})\n",
    "\n",
    "results = results.sort_values('F1-Score', ascending=False)\n",
    "print(\"\\n\" + \"=\"*60)\n",
    "print(\"MODEL COMPARISON\")\n",
    "print(\"=\"*60)\n",
    "print(results.to_string(index=False))\n",
    "\n",
    "os.makedirs('../results/metrics', exist_ok=True)\n",
    "results.to_csv('../results/metrics/model_comparison.csv', index=False)"
   ]
  },
  {
   "cell_type": "code",
   "execution_count": 11,
   "id": "15dc41d3",
   "metadata": {},
   "outputs": [
    {
     "data": {
      "image/png": "[encoded data removed]",
      "text/plain": [
       "<Figure size 1200x600 with 1 Axes>"
      ]
     },
     "metadata": {},
     "output_type": "display_data"
    }
   ],
   "source": [
    "plt.figure(figsize=(12, 6))\n",
    "x = np.arange(len(results))\n",
    "width = 0.25\n",
    "\n",
    "plt.bar(x - width, results['Accuracy'], width, label='Accuracy')\n",
    "plt.bar(x, results['F1-Score'], width, label='F1-Score')\n",
    "plt.bar(x + width, results['ROC-AUC'], width, label='ROC-AUC')\n",
    "\n",
    "plt.xlabel('Model')\n",
    "plt.ylabel('Score')\n",
    "plt.title('Model Performance Comparison', fontweight='bold')\n",
    "plt.xticks(x, results['Model'], rotation=45, ha='right')\n",
    "plt.legend()\n",
    "plt.grid(axis='y', alpha=0.3)\n",
    "plt.tight_layout()\n",
    "plt.savefig('../results/figures/model_comparison.png', dpi=300, bbox_inches='tight')\n",
    "plt.show()"
   ]
  },
  {
   "cell_type": "markdown",
   "id": "f80276aa",
   "metadata": {},
   "source": [
    "## Feature Importance"
   ]
  },
  {
   "cell_type": "code",
   "execution_count": 12,
   "id": "7605ef68",
   "metadata": {},
   "outputs": [
    {
     "name": "stdout",
     "output_type": "stream",
     "text": [
      "\n",
      "Feature Importance (Random Forest):\n",
      "============================================================\n",
      "1. strength                      : 0.1416\n",
      "2. ccs_value                     : 0.1275\n",
      "3. prompt_ratio                  : 0.1044\n",
      "4. strength_ccs_interaction      : 0.1010\n",
      "5. strength_gs_interaction       : 0.0935\n",
      "6. gs_value                      : 0.0868\n",
      "7. prompt_length                 : 0.0802\n",
      "8. num_iterations                : 0.0773\n",
      "9. qr_version                    : 0.0716\n",
      "10. negative_prompt_length        : 0.0507\n",
      "11. ec_encoded                    : 0.0338\n",
      "12. image_resolution              : 0.0288\n",
      "13. is_optimal_params             : 0.0027\n"
     ]
    }
   ],
   "source": [
    "importances = rf.feature_importances_\n",
    "indices = np.argsort(importances)[::-1]\n",
    "\n",
    "print(\"\\nFeature Importance (Random Forest):\")\n",
    "print(\"=\"*60)\n",
    "for i in range(len(feature_cols)):\n",
    "    print(f\"{i+1}. {feature_cols[indices[i]]:30s}: {importances[indices[i]]:.4f}\")"
   ]
  },
  {
   "cell_type": "code",
   "execution_count": 13,
   "id": "50729d60",
   "metadata": {},
   "outputs": [
    {
     "data": {
      "image/png": "[encoded data removed]",
      "text/plain": [
       "<Figure size 1000x600 with 1 Axes>"
      ]
     },
     "metadata": {},
     "output_type": "display_data"
    }
   ],
   "source": [
    "plt.figure(figsize=(10, 6))\n",
    "plt.barh(range(len(importances)), importances[indices], color='steelblue')\n",
    "plt.yticks(range(len(importances)), [feature_cols[i] for i in indices])\n",
    "plt.xlabel('Importance')\n",
    "plt.title('Feature Importance', fontweight='bold')\n",
    "plt.gca().invert_yaxis()\n",
    "plt.tight_layout()\n",
    "plt.savefig('../results/figures/feature_importance.png', dpi=300, bbox_inches='tight')\n",
    "plt.show()"
   ]
  },
  {
   "cell_type": "markdown",
   "id": "b4820b1e",
   "metadata": {},
   "source": [
    "## Save Best Model"
   ]
  },
  {
   "cell_type": "code",
   "execution_count": 14,
   "id": "d7528327",
   "metadata": {},
   "outputs": [
    {
     "name": "stdout",
     "output_type": "stream",
     "text": [
      "\n",
      "✓ Best model (Random Forest) saved!\n",
      "Test Accuracy: 0.7680\n",
      "Test F1-Score: 0.4528\n"
     ]
    }
   ],
   "source": [
    "os.makedirs('../models/trained_models', exist_ok=True)\n",
    "\n",
    "joblib.dump(rf, '../models/trained_models/best_model.pkl')\n",
    "joblib.dump(scaler, '../models/trained_models/scaler.pkl')\n",
    "joblib.dump(le, '../models/trained_models/label_encoder.pkl')\n",
    "joblib.dump(feature_cols, '../models/trained_models/feature_names.pkl')\n",
    "\n",
    "print(\"\\n✓ Best model (Random Forest) saved!\")\n",
    "print(f\"Test Accuracy: {accuracy_score(y_test, y_pred_rf):.4f}\")\n",
    "print(f\"Test F1-Score: {f1_score(y_test, y_pred_rf):.4f}\")"
   ]
  },
  {
   "cell_type": "markdown",
   "id": "44537479",
   "metadata": {},
   "source": [
    "## Test Prediction"
   ]
  },
  {
   "cell_type": "code",
   "execution_count": 15,
   "id": "d478da64",
   "metadata": {},
   "outputs": [
    {
     "name": "stdout",
     "output_type": "stream",
     "text": [
      "\n",
      "Test Prediction:\n",
      "Scannable: True\n",
      "Confidence: 90.6%\n",
      "\n",
      "============================================================\n",
      "✓ MODEL TRAINING COMPLETE!\n",
      "============================================================\n"
     ]
    }
   ],
   "source": [
    "test_params = {\n",
    "    'strength': 0.6,\n",
    "    'ccs_value': 1.5,\n",
    "    'gs_value': 12.0,\n",
    "    'prompt_length': 3,\n",
    "    'negative_prompt_length': 10,\n",
    "    'qr_version': 10,\n",
    "    'image_resolution': 512,\n",
    "    'num_iterations': 50,\n",
    "    'error_correction_level': 'H'\n",
    "}\n",
    "\n",
    "features = [\n",
    "    test_params['strength'],\n",
    "    test_params['ccs_value'],\n",
    "    test_params['gs_value'],\n",
    "    test_params['prompt_length'],\n",
    "    test_params['negative_prompt_length'],\n",
    "    test_params['qr_version'],\n",
    "    test_params['image_resolution'],\n",
    "    test_params['num_iterations'],\n",
    "    le.transform([test_params['error_correction_level']])[0],\n",
    "    test_params['strength'] * test_params['ccs_value'],\n",
    "    test_params['strength'] * test_params['gs_value'],\n",
    "    test_params['prompt_length'] / (test_params['negative_prompt_length'] + 1),\n",
    "    int((test_params['strength'] >= 0.5) & (test_params['strength'] <= 0.7))\n",
    "]\n",
    "\n",
    "features_scaled = scaler.transform([features])\n",
    "prediction = rf.predict(features_scaled)[0]\n",
    "probability = rf.predict_proba(features_scaled)[0]\n",
    "\n",
    "print(\"\\nTest Prediction:\")\n",
    "print(f\"Scannable: {bool(prediction)}\")\n",
    "print(f\"Confidence: {probability[prediction]*100:.1f}%\")\n",
    "\n",
    "print(\"\\n\" + \"=\"*60)\n",
    "print(\"✓ MODEL TRAINING COMPLETE!\")\n",
    "print(\"=\"*60)"
   ]
  }
 ],
 "metadata": {
  "kernelspec": {
   "display_name": "Python 3",
   "language": "python",
   "name": "python3"
  },
  "language_info": {
   "codemirror_mode": {
    "name": "ipython",
    "version": 3
   },
   "file_extension": ".py",
   "mimetype": "text/x-python",
   "name": "python",
   "nbconvert_exporter": "python",
   "pygments_lexer": "ipython3",
   "version": "3.11.9"
  }
 },
 "nbformat": 4,
 "nbformat_minor": 5
}
